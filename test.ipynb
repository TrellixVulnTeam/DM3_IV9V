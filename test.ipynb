{
 "cells": [
  {
   "cell_type": "code",
   "execution_count": 1,
   "metadata": {},
   "outputs": [],
   "source": [
    "import pandas as pd\n",
    "from joblib import load\n",
    "import warnings\n",
    "import logging\n",
    "logging.getLogger('tsfresh').setLevel(logging.ERROR)\n",
    "from tsfresh import extract_features, select_features,feature_selection\n",
    "from tsfresh.utilities.dataframe_functions import impute\n",
    "import argparse\n",
    "from sklearn.preprocessing import StandardScaler, MinMaxScaler"
   ]
  },
  {
   "cell_type": "code",
   "execution_count": 2,
   "metadata": {},
   "outputs": [
    {
     "name": "stderr",
     "output_type": "stream",
     "text": [
      "usage: ipykernel_launcher.py [-h] [--file FILE]\n",
      "ipykernel_launcher.py: error: unrecognized arguments: -f /home/local/ASUAD/mvishnoi/.local/share/jupyter/runtime/kernel-c8944642-f29d-4514-b1e8-693be1ff4401.json\n"
     ]
    },
    {
     "ename": "SystemExit",
     "evalue": "2",
     "output_type": "error",
     "traceback": [
      "An exception has occurred, use %tb to see the full traceback.\n",
      "\u001b[0;31mSystemExit\u001b[0m\u001b[0;31m:\u001b[0m 2\n"
     ]
    },
    {
     "name": "stderr",
     "output_type": "stream",
     "text": [
      "/home/local/ASUAD/mvishnoi/Desktop/DM3/env/lib/python3.6/site-packages/IPython/core/interactiveshell.py:3334: UserWarning: To exit: use 'exit', 'quit', or Ctrl-D.\n",
      "  warn(\"To exit: use 'exit', 'quit', or Ctrl-D.\", stacklevel=1)\n"
     ]
    }
   ],
   "source": [
    "parser = argparse.ArgumentParser(description='argument parsing')\n",
    "parser.add_argument('--file', type=str, default='data/test.csv')\n",
    "args = parser.parse_args()\n",
    "file = args.file\n",
    "print(\"Test file successfully uploaded: {}\".format(str(file)))\n",
    "test_file = pd.read_csv(file)"
   ]
  },
  {
   "cell_type": "code",
   "execution_count": null,
   "metadata": {},
   "outputs": [],
   "source": [
    "def test():\n",
    "    print(\"=======================\")\n",
    "    print(\"Uploading Feature file\")\n",
    "    print(\"=======================\")\n",
    "    print(\"=======================\")\n",
    "    print(\"Extracting Features from test file\")\n",
    "    print(\"=======================\")\n",
    "    featured = feature_collection(test_file)\n",
    "    scaler = load(\"scaler.save\")\n",
    "    featured = scaler.transform(featured)\n",
    "    print(\"=======================\")\n",
    "    print(\"Loading models\")\n",
    "    print(\"=======================\")\n",
    "    kmeans = load(\"kmeans.bin\")\n",
    "    print(\"=======================\")\n",
    "    print(\"Predicting based on four models\")\n",
    "    print(\"=======================\")\n",
    "    y_test_df = pd.DataFrame(featured)\n",
    "    y_test_df['Predicted'] = kmeans_pro.predict(featured)\n",
    "    carb_matrix = [\"10-20\",\"20-30\",\"30-40\",\"40-50\",\"60-70\",\"50-60\",\"70-80\",\"80-90\",\"90-100\",\"0-10\"]\n",
    "    final = []\n",
    "    for x in y_final.iterrows():\n",
    "        final.append(carb_matrix[np.int64(x[1]['Predicted'])])\n",
    "    y_final['carb_values'] = final\n",
    "    print(\"=======================\")\n",
    "    print(\"Output saved in output.csv file in current dir\")\n",
    "    print(\"=======================\")\n",
    "    output.to_csv('output.csv')\n",
    "    print(output)\n",
    "    return output\n"
   ]
  },
  {
   "cell_type": "code",
   "execution_count": null,
   "metadata": {},
   "outputs": [],
   "source": [
    "def feature_collection(test_file):\n",
    "    d = test_file.stack()\n",
    "    d.index.rename([ 'id', 'time' ], inplace = True )\n",
    "    d = d.reset_index()\n",
    "    with warnings.catch_warnings():\n",
    "        warnings.simplefilter(\"ignore\")\n",
    "        f = extract_features( d, column_id = \"id\", column_sort = \"time\")\n",
    "    impute(f)\n",
    "    assert f.isnull().sum().sum() == 0\n",
    "    f=f[['0__spkt_welch_density__coeff_2', '0__fft_coefficient__coeff_1__attr_\"abs\"','0__partial_autocorrelation__lag_1','0__autocorrelation__lag_1','0__autocorrelation__lag_2']]\n",
    "    return f\n",
    "\n",
    "\n",
    "# In[116]:\n",
    "\n",
    "if __name__==\"__main__\":\n",
    "    test()\n"
   ]
  }
 ],
 "metadata": {
  "kernelspec": {
   "display_name": "Python 3",
   "language": "python",
   "name": "python3"
  },
  "language_info": {
   "codemirror_mode": {
    "name": "ipython",
    "version": 3
   },
   "file_extension": ".py",
   "mimetype": "text/x-python",
   "name": "python",
   "nbconvert_exporter": "python",
   "pygments_lexer": "ipython3",
   "version": "3.6.8"
  }
 },
 "nbformat": 4,
 "nbformat_minor": 4
}
