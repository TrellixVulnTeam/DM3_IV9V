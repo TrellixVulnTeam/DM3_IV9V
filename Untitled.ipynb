{
 "cells": [
  {
   "cell_type": "code",
   "execution_count": 1,
   "metadata": {},
   "outputs": [],
   "source": [
    "import pandas as pd\n",
    "import numpy as np\n",
    "from pprint import pprint\n",
    "from sklearn.impute import SimpleImputer\n",
    "from tsfresh import extract_features, select_features,feature_selection\n",
    "from tsfresh.utilities.dataframe_functions import impute\n",
    "from sklearn.model_selection import train_test_split, RandomizedSearchCV\n",
    "from sklearn.preprocessing import StandardScaler, MinMaxScaler\n",
    "from sklearn.pipeline import make_pipeline\n",
    "from sklearn.linear_model import LogisticRegression as LR\n",
    "from sklearn.discriminant_analysis import LinearDiscriminantAnalysis as LDA\n",
    "from joblib import load, dump\n",
    "from sklearn.metrics import roc_auc_score as AUC, accuracy_score as accuracy, precision_score, recall_score, f1_score\n",
    "from sklearn.svm import SVC as SVM\n",
    "from sklearn.model_selection import cross_val_score, cross_validate\n",
    "from sklearn.ensemble import AdaBoostClassifier as ABC\n",
    "from sklearn.gaussian_process.kernels import RBF\n",
    "from sklearn.tree import DecisionTreeClassifier as DTC\n",
    "from sklearn.model_selection import GridSearchCV\n",
    "from sklearn import svm\n",
    "from sklearn import preprocessing\n",
    "from sklearn.linear_model import LogisticRegressionCV\n",
    "from scipy.stats import randint as sp_randint\n",
    "from sklearn.ensemble import RandomForestClassifier, AdaBoostClassifier\n",
    "from sklearn.tree import DecisionTreeClassifier\n",
    "import warnings\n",
    "warnings.filterwarnings('ignore')\n",
    "import logging\n",
    "logging.getLogger('tsfresh').setLevel(logging.ERROR)\n",
    "logging.getLogger('sklearn').setLevel(logging.ERROR)"
   ]
  },
  {
   "cell_type": "code",
   "execution_count": 2,
   "metadata": {},
   "outputs": [],
   "source": [
    "result = pd.DataFrame()\n",
    "for x in range(5):\n",
    "        d = pd.read_csv('data/mealData'+str(x+1)+'.csv', header = None,error_bad_lines=False)\n",
    "        f = pd.read_csv('data/mealAmountData'+str(x+1)+'.csv', header = None,error_bad_lines=False)\n",
    "        f.values.tolist()\n",
    "        final_val =[]\n",
    "        for x in range(d.shape[0]):\n",
    "            final_val.append(f[0][x])\n",
    "        d['carbo'] = final_val\n",
    "        result = pd.concat([result,d])"
   ]
  },
  {
   "cell_type": "code",
   "execution_count": 3,
   "metadata": {},
   "outputs": [
    {
     "data": {
      "text/plain": [
       "(255, 31)"
      ]
     },
     "execution_count": 3,
     "metadata": {},
     "output_type": "execute_result"
    }
   ],
   "source": [
    "result.shape"
   ]
  },
  {
   "cell_type": "code",
   "execution_count": 4,
   "metadata": {},
   "outputs": [],
   "source": [
    "def impute_data(result):\n",
    "    imp_mean = SimpleImputer(missing_values=np.nan,strategy='mean')\n",
    "    imp_mean.fit(result)\n",
    "    return(imp_mean.transform(result))"
   ]
  },
  {
   "cell_type": "code",
   "execution_count": 5,
   "metadata": {},
   "outputs": [],
   "source": [
    "result = impute_data(result)"
   ]
  },
  {
   "cell_type": "code",
   "execution_count": 6,
   "metadata": {},
   "outputs": [
    {
     "data": {
      "text/html": [
       "<div>\n",
       "<style scoped>\n",
       "    .dataframe tbody tr th:only-of-type {\n",
       "        vertical-align: middle;\n",
       "    }\n",
       "\n",
       "    .dataframe tbody tr th {\n",
       "        vertical-align: top;\n",
       "    }\n",
       "\n",
       "    .dataframe thead th {\n",
       "        text-align: right;\n",
       "    }\n",
       "</style>\n",
       "<table border=\"1\" class=\"dataframe\">\n",
       "  <thead>\n",
       "    <tr style=\"text-align: right;\">\n",
       "      <th></th>\n",
       "      <th>0</th>\n",
       "      <th>1</th>\n",
       "      <th>2</th>\n",
       "      <th>3</th>\n",
       "      <th>4</th>\n",
       "      <th>5</th>\n",
       "      <th>6</th>\n",
       "      <th>7</th>\n",
       "      <th>8</th>\n",
       "      <th>9</th>\n",
       "      <th>...</th>\n",
       "      <th>21</th>\n",
       "      <th>22</th>\n",
       "      <th>23</th>\n",
       "      <th>24</th>\n",
       "      <th>25</th>\n",
       "      <th>26</th>\n",
       "      <th>27</th>\n",
       "      <th>28</th>\n",
       "      <th>29</th>\n",
       "      <th>target</th>\n",
       "    </tr>\n",
       "  </thead>\n",
       "  <tbody>\n",
       "    <tr>\n",
       "      <th>0</th>\n",
       "      <td>221.0</td>\n",
       "      <td>232.0</td>\n",
       "      <td>240.0</td>\n",
       "      <td>244.0</td>\n",
       "      <td>245.0</td>\n",
       "      <td>246.0</td>\n",
       "      <td>249.0</td>\n",
       "      <td>254.0</td>\n",
       "      <td>261.0</td>\n",
       "      <td>272.0</td>\n",
       "      <td>...</td>\n",
       "      <td>292.0</td>\n",
       "      <td>290.0</td>\n",
       "      <td>277.0</td>\n",
       "      <td>245.0</td>\n",
       "      <td>242.0</td>\n",
       "      <td>239.0</td>\n",
       "      <td>235.0</td>\n",
       "      <td>231.0</td>\n",
       "      <td>226.0</td>\n",
       "      <td>45.0</td>\n",
       "    </tr>\n",
       "    <tr>\n",
       "      <th>1</th>\n",
       "      <td>55.0</td>\n",
       "      <td>62.0</td>\n",
       "      <td>70.0</td>\n",
       "      <td>79.0</td>\n",
       "      <td>89.0</td>\n",
       "      <td>100.0</td>\n",
       "      <td>112.0</td>\n",
       "      <td>121.0</td>\n",
       "      <td>131.0</td>\n",
       "      <td>141.0</td>\n",
       "      <td>...</td>\n",
       "      <td>168.0</td>\n",
       "      <td>160.0</td>\n",
       "      <td>159.0</td>\n",
       "      <td>144.0</td>\n",
       "      <td>139.0</td>\n",
       "      <td>138.0</td>\n",
       "      <td>138.0</td>\n",
       "      <td>139.0</td>\n",
       "      <td>139.0</td>\n",
       "      <td>65.0</td>\n",
       "    </tr>\n",
       "    <tr>\n",
       "      <th>2</th>\n",
       "      <td>214.0</td>\n",
       "      <td>213.0</td>\n",
       "      <td>211.0</td>\n",
       "      <td>210.0</td>\n",
       "      <td>205.0</td>\n",
       "      <td>200.0</td>\n",
       "      <td>195.0</td>\n",
       "      <td>195.0</td>\n",
       "      <td>204.0</td>\n",
       "      <td>205.0</td>\n",
       "      <td>...</td>\n",
       "      <td>79.0</td>\n",
       "      <td>78.0</td>\n",
       "      <td>78.0</td>\n",
       "      <td>79.0</td>\n",
       "      <td>79.0</td>\n",
       "      <td>81.0</td>\n",
       "      <td>82.0</td>\n",
       "      <td>84.0</td>\n",
       "      <td>86.0</td>\n",
       "      <td>60.0</td>\n",
       "    </tr>\n",
       "    <tr>\n",
       "      <th>3</th>\n",
       "      <td>226.0</td>\n",
       "      <td>224.0</td>\n",
       "      <td>228.0</td>\n",
       "      <td>222.0</td>\n",
       "      <td>214.0</td>\n",
       "      <td>206.0</td>\n",
       "      <td>199.0</td>\n",
       "      <td>194.0</td>\n",
       "      <td>190.0</td>\n",
       "      <td>184.0</td>\n",
       "      <td>...</td>\n",
       "      <td>135.0</td>\n",
       "      <td>139.0</td>\n",
       "      <td>141.0</td>\n",
       "      <td>143.0</td>\n",
       "      <td>148.0</td>\n",
       "      <td>149.0</td>\n",
       "      <td>148.0</td>\n",
       "      <td>153.0</td>\n",
       "      <td>155.0</td>\n",
       "      <td>80.0</td>\n",
       "    </tr>\n",
       "    <tr>\n",
       "      <th>4</th>\n",
       "      <td>188.0</td>\n",
       "      <td>181.0</td>\n",
       "      <td>176.0</td>\n",
       "      <td>174.0</td>\n",
       "      <td>172.0</td>\n",
       "      <td>170.0</td>\n",
       "      <td>170.0</td>\n",
       "      <td>170.0</td>\n",
       "      <td>168.0</td>\n",
       "      <td>166.0</td>\n",
       "      <td>...</td>\n",
       "      <td>112.0</td>\n",
       "      <td>107.0</td>\n",
       "      <td>105.0</td>\n",
       "      <td>100.0</td>\n",
       "      <td>99.0</td>\n",
       "      <td>100.0</td>\n",
       "      <td>101.0</td>\n",
       "      <td>100.0</td>\n",
       "      <td>95.0</td>\n",
       "      <td>45.0</td>\n",
       "    </tr>\n",
       "  </tbody>\n",
       "</table>\n",
       "<p>5 rows × 31 columns</p>\n",
       "</div>"
      ],
      "text/plain": [
       "       0      1      2      3      4      5      6      7      8      9  \\\n",
       "0  221.0  232.0  240.0  244.0  245.0  246.0  249.0  254.0  261.0  272.0   \n",
       "1   55.0   62.0   70.0   79.0   89.0  100.0  112.0  121.0  131.0  141.0   \n",
       "2  214.0  213.0  211.0  210.0  205.0  200.0  195.0  195.0  204.0  205.0   \n",
       "3  226.0  224.0  228.0  222.0  214.0  206.0  199.0  194.0  190.0  184.0   \n",
       "4  188.0  181.0  176.0  174.0  172.0  170.0  170.0  170.0  168.0  166.0   \n",
       "\n",
       "    ...       21     22     23     24     25     26     27     28     29  \\\n",
       "0   ...    292.0  290.0  277.0  245.0  242.0  239.0  235.0  231.0  226.0   \n",
       "1   ...    168.0  160.0  159.0  144.0  139.0  138.0  138.0  139.0  139.0   \n",
       "2   ...     79.0   78.0   78.0   79.0   79.0   81.0   82.0   84.0   86.0   \n",
       "3   ...    135.0  139.0  141.0  143.0  148.0  149.0  148.0  153.0  155.0   \n",
       "4   ...    112.0  107.0  105.0  100.0   99.0  100.0  101.0  100.0   95.0   \n",
       "\n",
       "   target  \n",
       "0    45.0  \n",
       "1    65.0  \n",
       "2    60.0  \n",
       "3    80.0  \n",
       "4    45.0  \n",
       "\n",
       "[5 rows x 31 columns]"
      ]
     },
     "execution_count": 6,
     "metadata": {},
     "output_type": "execute_result"
    }
   ],
   "source": [
    "result = pd.DataFrame(result)\n",
    "columns = list(result.columns)\n",
    "columns.pop()\n",
    "columns.append('target')\n",
    "result.columns = columns\n",
    "result.head()\n",
    "# result.to_csv( \"final_data.csv\", index = None )"
   ]
  },
  {
   "cell_type": "code",
   "execution_count": 7,
   "metadata": {},
   "outputs": [],
   "source": [
    "def feature_extract(result, filename):\n",
    "    y = result.target\n",
    "    result.drop( 'target', axis = 1, inplace = True )\n",
    "    d = result.stack()\n",
    "    d.index.rename([ 'id', 'time' ], inplace = True )\n",
    "    d = d.reset_index()\n",
    "    with warnings.catch_warnings():\n",
    "        warnings.simplefilter(\"ignore\")\n",
    "        f = extract_features( d, column_id = \"id\", column_sort = \"time\")\n",
    "    impute(f)\n",
    "    assert f.isnull().sum().sum() == 0\n",
    "    f=f[['0__spkt_welch_density__coeff_2', '0__fft_coefficient__coeff_1__attr_\"abs\"','0__partial_autocorrelation__lag_1','0__autocorrelation__lag_1','0__autocorrelation__lag_2']]\n",
    "    f['y'] = y  \n",
    "    f.to_csv( filename, index = None )\n",
    "    return f"
   ]
  },
  {
   "cell_type": "code",
   "execution_count": 8,
   "metadata": {},
   "outputs": [
    {
     "name": "stderr",
     "output_type": "stream",
     "text": [
      "Feature Extraction: 100%|██████████| 20/20 [00:04<00:00,  4.23it/s]\n"
     ]
    }
   ],
   "source": [
    "features = feature_extract(result,'data/features_file.csv')"
   ]
  },
  {
   "cell_type": "code",
   "execution_count": 9,
   "metadata": {},
   "outputs": [
    {
     "data": {
      "text/html": [
       "<div>\n",
       "<style scoped>\n",
       "    .dataframe tbody tr th:only-of-type {\n",
       "        vertical-align: middle;\n",
       "    }\n",
       "\n",
       "    .dataframe tbody tr th {\n",
       "        vertical-align: top;\n",
       "    }\n",
       "\n",
       "    .dataframe thead th {\n",
       "        text-align: right;\n",
       "    }\n",
       "</style>\n",
       "<table border=\"1\" class=\"dataframe\">\n",
       "  <thead>\n",
       "    <tr style=\"text-align: right;\">\n",
       "      <th>variable</th>\n",
       "      <th>0__spkt_welch_density__coeff_2</th>\n",
       "      <th>0__fft_coefficient__coeff_1__attr_\"abs\"</th>\n",
       "      <th>0__partial_autocorrelation__lag_1</th>\n",
       "      <th>0__autocorrelation__lag_1</th>\n",
       "      <th>0__autocorrelation__lag_2</th>\n",
       "      <th>y</th>\n",
       "    </tr>\n",
       "    <tr>\n",
       "      <th>id</th>\n",
       "      <th></th>\n",
       "      <th></th>\n",
       "      <th></th>\n",
       "      <th></th>\n",
       "      <th></th>\n",
       "      <th></th>\n",
       "    </tr>\n",
       "  </thead>\n",
       "  <tbody>\n",
       "    <tr>\n",
       "      <th>0</th>\n",
       "      <td>4400.873903</td>\n",
       "      <td>609.257683</td>\n",
       "      <td>0.913209</td>\n",
       "      <td>0.913209</td>\n",
       "      <td>0.801863</td>\n",
       "      <td>45.0</td>\n",
       "    </tr>\n",
       "    <tr>\n",
       "      <th>1</th>\n",
       "      <td>8740.141610</td>\n",
       "      <td>814.553186</td>\n",
       "      <td>0.934989</td>\n",
       "      <td>0.934989</td>\n",
       "      <td>0.842073</td>\n",
       "      <td>65.0</td>\n",
       "    </tr>\n",
       "    <tr>\n",
       "      <th>2</th>\n",
       "      <td>14365.427490</td>\n",
       "      <td>1109.645519</td>\n",
       "      <td>0.978882</td>\n",
       "      <td>0.978882</td>\n",
       "      <td>0.936196</td>\n",
       "      <td>60.0</td>\n",
       "    </tr>\n",
       "    <tr>\n",
       "      <th>3</th>\n",
       "      <td>5917.460252</td>\n",
       "      <td>689.838444</td>\n",
       "      <td>0.963470</td>\n",
       "      <td>0.963470</td>\n",
       "      <td>0.899920</td>\n",
       "      <td>80.0</td>\n",
       "    </tr>\n",
       "    <tr>\n",
       "      <th>4</th>\n",
       "      <td>1639.481005</td>\n",
       "      <td>537.283682</td>\n",
       "      <td>0.942781</td>\n",
       "      <td>0.942781</td>\n",
       "      <td>0.885352</td>\n",
       "      <td>45.0</td>\n",
       "    </tr>\n",
       "  </tbody>\n",
       "</table>\n",
       "</div>"
      ],
      "text/plain": [
       "variable  0__spkt_welch_density__coeff_2  \\\n",
       "id                                         \n",
       "0                            4400.873903   \n",
       "1                            8740.141610   \n",
       "2                           14365.427490   \n",
       "3                            5917.460252   \n",
       "4                            1639.481005   \n",
       "\n",
       "variable  0__fft_coefficient__coeff_1__attr_\"abs\"  \\\n",
       "id                                                  \n",
       "0                                      609.257683   \n",
       "1                                      814.553186   \n",
       "2                                     1109.645519   \n",
       "3                                      689.838444   \n",
       "4                                      537.283682   \n",
       "\n",
       "variable  0__partial_autocorrelation__lag_1  0__autocorrelation__lag_1  \\\n",
       "id                                                                       \n",
       "0                                  0.913209                   0.913209   \n",
       "1                                  0.934989                   0.934989   \n",
       "2                                  0.978882                   0.978882   \n",
       "3                                  0.963470                   0.963470   \n",
       "4                                  0.942781                   0.942781   \n",
       "\n",
       "variable  0__autocorrelation__lag_2     y  \n",
       "id                                         \n",
       "0                          0.801863  45.0  \n",
       "1                          0.842073  65.0  \n",
       "2                          0.936196  60.0  \n",
       "3                          0.899920  80.0  \n",
       "4                          0.885352  45.0  "
      ]
     },
     "execution_count": 9,
     "metadata": {},
     "output_type": "execute_result"
    }
   ],
   "source": [
    "features.head()"
   ]
  },
  {
   "cell_type": "code",
   "execution_count": 11,
   "metadata": {},
   "outputs": [],
   "source": [
    "features.to_csv('features_file.csv')"
   ]
  },
  {
   "cell_type": "code",
   "execution_count": 56,
   "metadata": {},
   "outputs": [
    {
     "data": {
      "text/plain": [
       "['scaler.save']"
      ]
     },
     "execution_count": 56,
     "metadata": {},
     "output_type": "execute_result"
    }
   ],
   "source": [
    "data = pd.read_csv(\"features_file.csv\")\n",
    "X_train, X_test, y_train, y_test = train_test_split(data.iloc[:,:-1], data['y'], test_size=0.33, random_state=42)\n",
    "X_train.to_csv('train_data.csv')\n",
    "scaler = StandardScaler().fit(X_train)\n",
    "X_train = scaler.transform(X_train)\n",
    "X_test = scaler.transform(X_test)\n",
    "dump(scaler,\"scaler.save\")"
   ]
  },
  {
   "cell_type": "code",
   "execution_count": 57,
   "metadata": {},
   "outputs": [],
   "source": [
    "from sklearn.cluster import KMeans"
   ]
  },
  {
   "cell_type": "code",
   "execution_count": 58,
   "metadata": {},
   "outputs": [],
   "source": [
    "kmeans = KMeans(n_clusters=10, random_state=0).fit(X_train)"
   ]
  },
  {
   "cell_type": "code",
   "execution_count": 59,
   "metadata": {},
   "outputs": [
    {
     "data": {
      "text/plain": [
       "array([7, 5, 0, 7, 8, 1, 1, 1, 3, 8, 7, 1, 1, 4, 1, 0, 7, 3, 8, 3, 7, 3,\n",
       "       8, 1, 5, 1, 7, 1, 5, 5, 1, 8, 1, 1, 7, 5, 4, 5, 3, 3, 7, 7, 1, 7,\n",
       "       4, 5, 3, 9, 7, 1, 1, 5, 7, 4, 8, 7, 4, 4, 3, 0, 0, 7, 7, 4, 1, 8,\n",
       "       8, 1, 0, 4, 4, 5, 3, 8, 8, 1, 4, 1, 2, 4, 7, 5, 3, 4, 0],\n",
       "      dtype=int32)"
      ]
     },
     "execution_count": 59,
     "metadata": {},
     "output_type": "execute_result"
    }
   ],
   "source": [
    "kmeans.predict(X_test)"
   ]
  },
  {
   "cell_type": "code",
   "execution_count": 60,
   "metadata": {},
   "outputs": [
    {
     "data": {
      "text/plain": [
       "210.24844606825815"
      ]
     },
     "execution_count": 60,
     "metadata": {},
     "output_type": "execute_result"
    }
   ],
   "source": [
    "kmeans.inertia_"
   ]
  },
  {
   "cell_type": "code",
   "execution_count": 37,
   "metadata": {},
   "outputs": [
    {
     "data": {
      "text/plain": [
       "array([0.80708661, 0.07757826, 0.35783587, 0.9636999 , 0.9636999 ,\n",
       "       0.95120116])"
      ]
     },
     "execution_count": 37,
     "metadata": {},
     "output_type": "execute_result"
    }
   ],
   "source": [
    "X_test[3]"
   ]
  },
  {
   "cell_type": "code",
   "execution_count": 41,
   "metadata": {},
   "outputs": [
    {
     "data": {
      "text/plain": [
       "array([0.72834646, 0.04412072, 0.14843072, 0.91070586, 0.91070586,\n",
       "       0.88596264])"
      ]
     },
     "execution_count": 41,
     "metadata": {},
     "output_type": "execute_result"
    }
   ],
   "source": [
    "X_test[5]"
   ]
  },
  {
   "cell_type": "code",
   "execution_count": 62,
   "metadata": {},
   "outputs": [],
   "source": [
    "y_test = np.array(y_test)"
   ]
  },
  {
   "cell_type": "code",
   "execution_count": 71,
   "metadata": {},
   "outputs": [
    {
     "data": {
      "text/plain": [
       "0.0"
      ]
     },
     "execution_count": 71,
     "metadata": {},
     "output_type": "execute_result"
    }
   ],
   "source": [
    "y_test[22pca.fit(X)]"
   ]
  },
  {
   "cell_type": "code",
   "execution_count": 72,
   "metadata": {},
   "outputs": [
    {
     "data": {
      "text/plain": [
       "27.0"
      ]
     },
     "execution_count": 72,
     "metadata": {},
     "output_type": "execute_result"
    }
   ],
   "source": [
    "y_test[31]"
   ]
  },
  {
   "cell_type": "code",
   "execution_count": 73,
   "metadata": {},
   "outputs": [],
   "source": [
    "from sklearn.decomposition import PCA"
   ]
  },
  {
   "cell_type": "code",
   "execution_count": 74,
   "metadata": {},
   "outputs": [],
   "source": [
    "pca = PCA(n_components=2)"
   ]
  },
  {
   "cell_type": "code",
   "execution_count": 79,
   "metadata": {},
   "outputs": [],
   "source": [
    "t = pca.fit_transform(data.iloc[:,:-1])"
   ]
  },
  {
   "cell_type": "code",
   "execution_count": 81,
   "metadata": {},
   "outputs": [],
   "source": [
    "X_train, X_test, y_train, y_test = train_test_split(t, data['y'], test_size=0.33, random_state=2)"
   ]
  },
  {
   "cell_type": "code",
   "execution_count": 83,
   "metadata": {},
   "outputs": [
    {
     "data": {
      "text/plain": [
       "['scaler.save']"
      ]
     },
     "execution_count": 83,
     "metadata": {},
     "output_type": "execute_result"
    }
   ],
   "source": [
    "scaler = StandardScaler().fit(X_train)\n",
    "X_train = scaler.transform(X_train)\n",
    "X_test = scaler.transform(X_test)\n",
    "dump(scaler,\"scaler.save\")"
   ]
  },
  {
   "cell_type": "code",
   "execution_count": 84,
   "metadata": {},
   "outputs": [],
   "source": [
    "kmeans = KMeans(n_clusters=10, random_state=0).fit(X_train)"
   ]
  },
  {
   "cell_type": "code",
   "execution_count": 85,
   "metadata": {},
   "outputs": [
    {
     "data": {
      "text/plain": [
       "array([8, 1, 7, 1, 7, 4, 4, 4, 0, 7, 8, 1, 0, 6, 4, 9, 8, 8, 2, 1, 3, 0,\n",
       "       4, 1, 1, 4, 9, 7, 4, 7, 7, 7, 4, 0, 0, 2, 1, 7, 7, 2, 4, 2, 7, 1,\n",
       "       1, 3, 1, 0, 6, 4, 0, 4, 6, 1, 1, 8, 2, 8, 1, 4, 4, 8, 0, 1, 8, 7,\n",
       "       7, 7, 0, 6, 2, 4, 7, 2, 0, 8, 3, 1, 4, 3, 8, 1, 0, 1, 2],\n",
       "      dtype=int32)"
      ]
     },
     "execution_count": 85,
     "metadata": {},
     "output_type": "execute_result"
    }
   ],
   "source": [
    "kmeans.predict(X_test)"
   ]
  },
  {
   "cell_type": "code",
   "execution_count": 86,
   "metadata": {},
   "outputs": [
    {
     "data": {
      "text/plain": [
       "35.51060122549474"
      ]
     },
     "execution_count": 86,
     "metadata": {},
     "output_type": "execute_result"
    }
   ],
   "source": [
    "kmeans.inertia_"
   ]
  },
  {
   "cell_type": "code",
   "execution_count": 88,
   "metadata": {},
   "outputs": [],
   "source": [
    "y_test = np.array(y_test)"
   ]
  },
  {
   "cell_type": "code",
   "execution_count": 95,
   "metadata": {},
   "outputs": [
    {
     "data": {
      "text/plain": [
       "80.0"
      ]
     },
     "execution_count": 95,
     "metadata": {},
     "output_type": "execute_result"
    }
   ],
   "source": [
    "y_test[7]"
   ]
  },
  {
   "cell_type": "code",
   "execution_count": 94,
   "metadata": {},
   "outputs": [
    {
     "data": {
      "text/plain": [
       "0.0"
      ]
     },
     "execution_count": 94,
     "metadata": {},
     "output_type": "execute_result"
    }
   ],
   "source": [
    "y_test[6]"
   ]
  },
  {
   "cell_type": "code",
   "execution_count": null,
   "metadata": {},
   "outputs": [],
   "source": []
  }
 ],
 "metadata": {
  "kernelspec": {
   "display_name": "Python 3",
   "language": "python",
   "name": "python3"
  },
  "language_info": {
   "codemirror_mode": {
    "name": "ipython",
    "version": 3
   },
   "file_extension": ".py",
   "mimetype": "text/x-python",
   "name": "python",
   "nbconvert_exporter": "python",
   "pygments_lexer": "ipython3",
   "version": "3.6.8"
  }
 },
 "nbformat": 4,
 "nbformat_minor": 4
}
